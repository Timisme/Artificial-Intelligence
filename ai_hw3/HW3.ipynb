{
  "nbformat": 4,
  "nbformat_minor": 0,
  "metadata": {
    "kernelspec": {
      "display_name": "Python 3",
      "language": "python",
      "name": "python3"
    },
    "language_info": {
      "codemirror_mode": {
        "name": "ipython",
        "version": 3
      },
      "file_extension": ".py",
      "mimetype": "text/x-python",
      "name": "python",
      "nbconvert_exporter": "python",
      "pygments_lexer": "ipython3",
      "version": "3.7.4"
    },
    "colab": {
      "name": "HW3.ipynb",
      "provenance": [],
      "collapsed_sections": []
    },
    "accelerator": "GPU"
  },
  "cells": [
    {
      "cell_type": "markdown",
      "metadata": {
        "id": "YBq_GOovwVB7"
      },
      "source": [
        "# Pytorch Homework 3: 利用 stanford dog (mini) dataset 來訓練一個分類器。\n",
        "\n",
        "## 作業說明\n",
        "\n",
        "這次的作業總共有 4 個部份，必須完成助教提供的 ipynb 檔，在檔案中某些區塊會有 ??? 處需要完成。\n",
        "\n",
        "0. 安裝需要使用的 package: pip install -r requirements.txt\n",
        "\n",
        "1. 實作 Dataloader\n",
        "    * 1.1. 實作一個可以讀取 stanford dog (mini) 的 Pytorch dataset。 ** (10%) **\n",
        "    * 1.2. 將每一個類別以 8 : 2 的比例分割成 Training data 和 Testing data 傳至 dataloader  ** (15%) **\n",
        "\n",
        "2. 建構 CNN model。\n",
        "    * 2.1. 利用 Pytorch 內建的 CNN model 來進行訓練。 ** (10%) **\n",
        "    * 2.2. 自行設計一個新的 CNN model 來進行訓練。 ** (20%) ** (至少達到 70% 以上的 Testing accuracy，否則只有一半的分數)\n",
        "    * 2.3. 利用 torchsummary 來印出上面兩個模型的架構資訊。 ** (5%) **\n",
        "\n",
        "3. 實作模型訓練和測試模型效能。 ** (30%) **\n",
        "4. 將每一個 epoch 的 Loss 以及 Training / Testing accuracy 紀錄下來並繪製成圖並儲存下來。 ** (10%) **\n",
        "    \n",
        "## 作業繳交\n",
        "\n",
        "* Deadline : 11/16 中午12:00        \n",
        "    * **遲交一天打 7 折**\n",
        "    * **遲交兩天打 5 折**\n",
        "    * **遲交三天以上不給予分數**\n",
        "    \n",
        "* 繳交方式 : 請將完成的 ipynb 檔 (分成兩個版本: 內建 model 版和自己設計的版本) 以及 Loss、Training / testing accuracy 的圖片，壓縮後上傳至 moodle。\n",
        "    * 建議先完成一個版本，然後將檔案複製後再完成另一個版本\n",
        "    \n",
        "* 壓縮檔內包含 :\n",
        "    * (你的學號)\\_(姓名)\\_HW3_2_1.ipynb  (E.g.F77777777_王小明_HW3_2_1.ipynb) \n",
        "    * (你的學號)\\_(姓名)\\_HW3_2_2.ipynb  (E.g.F77777777_王小明_HW3_2_2.ipynb) \n",
        "    * 兩個版本的 Loss.png、Acc.png (Loss_2_1.png、Loss_2_2.png、Acc_2_1.png、Acc_2_2.png)\n",
        "    * **格式不對的話會扣 10 分！！！**\n",
        "    \n",
        "* 有任何問題歡迎寄信至我的信箱\n",
        "    * 曹維廷 a0903511820@gmail.com"
      ]
    },
    {
      "cell_type": "code",
      "metadata": {
        "id": "psUlRBazwVB9"
      },
      "source": [
        "import os, torch, torchvision, random\n",
        "import pandas as pd\n",
        "import numpy as np\n",
        "import torch.nn as nn\n",
        "import matplotlib.pyplot as plt\n",
        "from PIL import Image\n",
        "\n",
        "import torch.nn.functional as F\n",
        "import torchvision.transforms as transforms\n",
        "import torchvision.models as models\n",
        "from torch.utils.data import Dataset, random_split, DataLoader\n",
        "from torchvision.datasets import ImageFolder\n",
        "from torchvision import models\n",
        "from torch import optim\n",
        "from torch.optim import lr_scheduler\n",
        "from torchsummary import summary\n",
        "import time"
      ],
      "execution_count": null,
      "outputs": []
    },
    {
      "cell_type": "code",
      "metadata": {
        "id": "4LPENGuZwVCC"
      },
      "source": [
        "device = torch.device('cuda' if torch.cuda.is_available() else 'cpu')"
      ],
      "execution_count": null,
      "outputs": []
    },
    {
      "cell_type": "code",
      "metadata": {
        "id": "59mTih655fR7",
        "outputId": "6ad4cc5d-c961-456c-82b1-937680cc23f5",
        "colab": {
          "base_uri": "https://localhost:8080/"
        }
      },
      "source": [
        "from google.colab import drive\n",
        "drive.mount('/content/drive',force_remount=False)"
      ],
      "execution_count": null,
      "outputs": [
        {
          "output_type": "stream",
          "text": [
            "Drive already mounted at /content/drive; to attempt to forcibly remount, call drive.mount(\"/content/drive\", force_remount=True).\n"
          ],
          "name": "stdout"
        }
      ]
    },
    {
      "cell_type": "markdown",
      "metadata": {
        "id": "CFQRWCkqwVCG"
      },
      "source": [
        "### Part 1：Dataloader 實作"
      ]
    },
    {
      "cell_type": "code",
      "metadata": {
        "id": "pAHOV1ATwVCG"
      },
      "source": [
        "# 1.1. 填入 ??? 的部份\n",
        "\n",
        "class DogDataset(Dataset):\n",
        "    \n",
        "    def __init__(self, filenames, labels, transform):\n",
        "        \n",
        "        self.filenames = filenames # 資料集的所有檔名\n",
        "        self.labels = labels # 影像的標籤\n",
        "        self.transform = transform # 影像的轉換方式\n",
        " \n",
        "    def __len__(self):\n",
        "        \n",
        "        return len(self.filenames) # return DataSet 長度\n",
        " \n",
        "    def __getitem__(self, idx):\n",
        "        \n",
        "        image = Image.open(self.filenames[idx]).convert('RGB')\n",
        "        image = self.transform(image)\n",
        "        label = np.array(self.labels[idx])\n",
        "                \n",
        "        return image, label # return 模型訓練所需的資訊\n"
      ],
      "execution_count": null,
      "outputs": []
    },
    {
      "cell_type": "code",
      "metadata": {
        "id": "57P128UEwVCK"
      },
      "source": [
        "normalize = transforms.Normalize(mean = [0.485, 0.456, 0.406], std = [0.229, 0.224, 0.225])\n",
        "\n",
        "# Transformer\n",
        "train_transformer = transforms.Compose([\n",
        "    transforms.Resize(256),\n",
        "    transforms.RandomResizedCrop(224),\n",
        "    transforms.RandomHorizontalFlip(),\n",
        "    transforms.ToTensor(),\n",
        "    normalize\n",
        "])\n",
        " \n",
        "test_transformer = transforms.Compose([\n",
        "    transforms.Resize(224),\n",
        "    transforms.CenterCrop(224),\n",
        "    transforms.ToTensor(),\n",
        "    normalize\n",
        "])\n",
        "\n",
        "# 1.2. 填入 ??? 的部份\n",
        "\n",
        "def split_Train_Val_Data(data_dir):\n",
        "    \n",
        "    dataset = ImageFolder(data_dir) \n",
        "    \n",
        "    # 建立 20 類的 list\n",
        "    character = [[] for i in range(len(dataset.classes))]\n",
        "    # print(character)\n",
        "    \n",
        "    # 將每一類的檔名依序存入相對應的 list\n",
        "    for x, y in dataset.samples:\n",
        "        character[y].append(x)\n",
        "      \n",
        "    train_inputs, test_inputs = [], []\n",
        "    train_labels, test_labels = [], []\n",
        "    \n",
        "    for i, data in enumerate(character): # 讀取每個類別中所有的檔名 (i: label, data: filename)\n",
        "        \n",
        "        np.random.seed(42)\n",
        "        np.random.shuffle(data)\n",
        "            \n",
        "        # -------------------------------------------\n",
        "        # 將每一類都以 8:2 的比例分成訓練資料和測試資料\n",
        "        # -------------------------------------------\n",
        "        \n",
        "        num_sample_train = 0.8\n",
        "        num_sample_test = 0.2\n",
        "        \n",
        "        # print(str(i) + ': ' + str(len(data)) + ' | ' + str(num_sample_train) + ' | ' + str(num_sample_test))\n",
        "        \n",
        "        for x in data[:int(len(data)*num_sample_train)] : # 前 80% 資料存進 training list\n",
        "            train_inputs.append(x)\n",
        "            train_labels.append(i)\n",
        "            \n",
        "        for x in data[int(len(data)*num_sample_train):] : # 後 20% 資料存進 testing list\n",
        "            test_inputs.append(x)\n",
        "            test_labels.append(i)\n",
        "\n",
        "    train_dataloader = DataLoader(DogDataset(train_inputs, train_labels, train_transformer),\n",
        "                                  batch_size = batch_size, shuffle = True, num_workers= 4)\n",
        "    test_dataloader = DataLoader(DogDataset(test_inputs, test_labels, test_transformer),\n",
        "                                  batch_size = batch_size, shuffle = False, num_workers= 4)\n",
        " \n",
        "    return train_dataloader, test_dataloader"
      ],
      "execution_count": null,
      "outputs": []
    },
    {
      "cell_type": "markdown",
      "metadata": {
        "id": "VZ1TrxstwVCO"
      },
      "source": [
        "### Part 2: 建立 CNN Model"
      ]
    },
    {
      "cell_type": "code",
      "metadata": {
        "id": "-XnStX8CwVCP"
      },
      "source": [
        "# 2.2. 自行設計一個新的 CNN model\n",
        "\n",
        "class BuildModel(nn.Module):\n",
        "\n",
        "    def __init__(self):\n",
        "        \n",
        "        super(BuildModel, self).__init__()\n",
        "        \n",
        "        self.VGG16_form = [64,64,\"M\",128,128,\"M\",256,256,256,\"M\",512,512,512,\"M\",512,512,512,\"M\"]\n",
        "        self.in_channels = 3\n",
        "        self.img_size = 224\n",
        "        self.num_classes = 20\n",
        "        self.conv_layers = self.build_conv_layers(self.VGG16_form)\n",
        "        self.fully_connected_layers = nn.Sequential(\n",
        "        nn.Linear(int(((self.img_size/32)**2)*512), 4096), #conv最後從(7 X 7 X 512)flatten為一維\n",
        "        nn.BatchNorm1d(4096),\n",
        "        nn.ReLU(True),\n",
        "        nn.Dropout(p= 0.5),\n",
        "        nn.Linear(4096,4096),\n",
        "        nn.BatchNorm1d(4096),\n",
        "        nn.ReLU(True),\n",
        "        nn.Dropout(p= 0.5),\n",
        "        nn.Linear(4096, self.num_classes))\n",
        "        \n",
        "        \n",
        "        # ----------------------------------------------\n",
        "        # 初始化模型的 layer (input size: 3 * 224 * 224)\n",
        "        # ----------------------------------------------\n",
        "               \n",
        "    def forward(self, x):\n",
        "        \n",
        "        x = self.conv_layers(x)\n",
        "        x = x.reshape(x.shape[0],-1)\n",
        "        x = self.fully_connected_layers(x)\n",
        "        # ----------------------------------------------\n",
        "        # Forward (最後輸出 20 個類別的機率值)\n",
        "        # ----------------------------------------------\n",
        "        return x\n",
        "    \n",
        "    def build_conv_layers(self, VGG_architecture): #建立VGG16架構\n",
        "        layers = []\n",
        "        in_channels = self.in_channels\n",
        "\n",
        "        for layer_out in VGG_architecture: #針對vgg16的結構建立layers(list)\n",
        "            if type(layer_out) == int:\n",
        "\n",
        "                out_channels = layer_out\n",
        "\n",
        "                layers += [nn.Conv2d(in_channels= in_channels, out_channels= out_channels,\n",
        "                kernel_size=(3,3), stride=(1,1), padding=(1,1)),nn.BatchNorm2d(out_channels) ,nn.ReLU(True)]\n",
        "\n",
        "                in_channels = out_channels #更新下一個layers的in_channel\n",
        "            elif layer_out == 'M': #沒有參數\n",
        "                layers += [nn.MaxPool2d(kernel_size=(2,2), stride= (2,2))]\n",
        "        return nn.Sequential(*layers)"
      ],
      "execution_count": null,
      "outputs": []
    },
    {
      "cell_type": "markdown",
      "metadata": {
        "id": "liKaqfEGwVCS"
      },
      "source": [
        "### Setting\n",
        "\n",
        "依據需求調整參數"
      ]
    },
    {
      "cell_type": "code",
      "metadata": {
        "id": "6GPzviDzAnfD"
      },
      "source": [
        "torch.cuda.empty_cache()"
      ],
      "execution_count": null,
      "outputs": []
    },
    {
      "cell_type": "code",
      "metadata": {
        "id": "UrHhYJAFwVCT"
      },
      "source": [
        "batch_size = 64\n",
        "lr = 1e-3\n",
        "epochs = 20\n",
        "\n",
        "data_dir = '/content/drive/My Drive/data/stanford_dog'"
      ],
      "execution_count": null,
      "outputs": []
    },
    {
      "cell_type": "code",
      "metadata": {
        "id": "3pU3us21wVCX"
      },
      "source": [
        "# 2.3. \n",
        "\n",
        "train_dataloader, test_dataloader = split_Train_Val_Data(data_dir)\n",
        "\n",
        "torch.cuda.empty_cache()\n",
        "\n",
        "# C = BuildModel().to(device) # 使用內建的 model 或是自行設計的 model\n",
        "C = models.resnet50(pretrained=True)\n",
        "num_features = C.fc.in_features\n",
        "C.fc = nn.Linear(num_features, 20)\n",
        "C = C.to(device)\n",
        "\n",
        "optimizer_C = optim.SGD(C.parameters(), lr = lr, momentum= 0.9, weight_decay= 0.0001) # 選擇你想用的 optimizer\n",
        "exp_lr_scheduler = lr_scheduler.StepLR(optimizer_C, step_size=10, gamma=0.1)\n",
        "# optimizer_C = optim.Adam(C.parameters(), lr = lr) # 選擇你想用的 optimizer\n",
        "\n",
        "# print(summary(C, (3,224,224)) # 利用 torchsummary 的 summary package 印出模型資訊，input size: (3 * 224 * 224)\n",
        "\n",
        "# Loss function\n",
        "criterion = nn.CrossEntropyLoss()\n",
        " # 選擇想用的 loss function"
      ],
      "execution_count": null,
      "outputs": []
    },
    {
      "cell_type": "code",
      "metadata": {
        "id": "-p985GcowVCb"
      },
      "source": [
        "loss_epoch_C = []\n",
        "train_acc, test_acc = [], []\n",
        "best_acc, best_auc = 0.0, 0.0"
      ],
      "execution_count": null,
      "outputs": []
    },
    {
      "cell_type": "markdown",
      "metadata": {
        "id": "ayfNI1jRwVCf"
      },
      "source": [
        "### 3. 實作模型訓練和測試模型效能"
      ]
    },
    {
      "cell_type": "code",
      "metadata": {
        "id": "ysIGNH93wVCf",
        "outputId": "700dc12a-bc01-4b6f-8da0-b1a9a9db1c78",
        "colab": {
          "base_uri": "https://localhost:8080/"
        }
      },
      "source": [
        "def train():\n",
        "  if __name__ == '__main__':\n",
        "  \n",
        "    for epoch in range(epochs):\n",
        "      start = time.time()\n",
        "      iter = 0\n",
        "      correct_train, total_train = 0, 0\n",
        "      correct_test, total_test = 0, 0\n",
        "      train_loss_C = 0.0\n",
        "\n",
        "      C.train() # 設定 train 或 eval\n",
        "    \n",
        "      print('epoch: ' + str(epoch + 1) + ' / ' + str(epochs))  \n",
        "      \n",
        "      # ---------------------------\n",
        "      # Training Stage\n",
        "      # ---------------------------\n",
        "      \n",
        "      for i, (x, label) in enumerate(train_dataloader) :\n",
        "          # print('now is iteration :{}'.format(i),end='\\r')\n",
        "          iter_start = time.time()   \n",
        "\n",
        "          x, label = x.to(device), label.to(device)\n",
        "                      \n",
        "          optimizer_C.zero_grad()\n",
        "          input_start = time.time()\n",
        "          outputs = C(x) # 將訓練資料輸入至模型進行訓練\n",
        "          # print('network cal takes {:.2f} secs'.format(time.time()-input_start),end='\\r')\n",
        "          loss = criterion(outputs, label) # 計算 loss\n",
        "          \n",
        "          loss.backward() # 將 loss 反向傳播\n",
        "          optimizer_C.step() # 更新權重\n",
        "          \n",
        "          # 計算訓練資料的準確度 (correct_train / total_train)\n",
        "          _, predicted = torch.max(outputs.data,1)\n",
        "          total_train += label.size(0)\n",
        "          correct_train += (predicted == label).sum().item()\n",
        "\n",
        "          train_loss_C += loss.item()\n",
        "          iter += 1\n",
        "          # print('this iter takes {:.2f} secs'.format(time.time()-iter_start),end='\\r')\n",
        "      exp_lr_scheduler.step()        \n",
        "      print('Training epoch: %d / loss_C: %.3f | acc: %.3f' % \\\n",
        "            (epoch + 1, train_loss_C / iter, correct_train / total_train))\n",
        "      end = time.time()\n",
        "      print('Training takes %.3f secs'%(end-start))\n",
        "      \n",
        "      # --------------------------\n",
        "      # Testing Stage\n",
        "      # --------------------------\n",
        "      \n",
        "      C.eval() # 設定 train 或 eval\n",
        "        \n",
        "      for i, (x, label) in enumerate(test_dataloader) :\n",
        "        \n",
        "          with torch.no_grad(): # 測試階段不需要求梯度\n",
        "              x, label = x.to(device), label.to(device)\n",
        "              \n",
        "              outputs = C(x) # 將測試資料輸入至模型進行測試\n",
        "  #                 ??? # 計算測試資料的準確度\n",
        "              _, predicted = torch.max(outputs.data,1)\n",
        "              total_test += label.size(0)\n",
        "              correct_test += (predicted == label).sum().item()\n",
        "      \n",
        "      print('Testing acc: %.3f' % (correct_test / total_test))\n",
        "                                    \n",
        "      train_acc.append(100 *(correct_train / total_train)) # training accuracy\n",
        "      test_acc.append(100 * (correct_test / total_test))  # testing accuracy\n",
        "      loss_epoch_C.append(train_loss_C / iter) # loss \n",
        "  return 'finished'"
      ],
      "execution_count": null,
      "outputs": [
        {
          "output_type": "stream",
          "text": [
            "epoch: 1 / 20\n",
            "Training epoch: 1 / loss_C: 2.562 | acc: 0.311\n",
            "Training takes 29.107 secs\n",
            "Testing acc: 0.741\n",
            "epoch: 2 / 20\n",
            "Training epoch: 2 / loss_C: 1.551 | acc: 0.650\n",
            "Training takes 29.391 secs\n",
            "Testing acc: 0.837\n",
            "epoch: 3 / 20\n",
            "Training epoch: 3 / loss_C: 1.049 | acc: 0.733\n",
            "Training takes 29.647 secs\n",
            "Testing acc: 0.868\n",
            "epoch: 4 / 20\n",
            "Training epoch: 4 / loss_C: 0.830 | acc: 0.765\n",
            "Training takes 30.169 secs\n",
            "Testing acc: 0.879\n",
            "epoch: 5 / 20\n",
            "Training epoch: 5 / loss_C: 0.723 | acc: 0.786\n",
            "Training takes 30.463 secs\n",
            "Testing acc: 0.876\n",
            "epoch: 6 / 20\n",
            "Training epoch: 6 / loss_C: 0.640 | acc: 0.811\n",
            "Training takes 30.475 secs\n",
            "Testing acc: 0.888\n",
            "epoch: 7 / 20\n",
            "Training epoch: 7 / loss_C: 0.607 | acc: 0.817\n",
            "Training takes 30.676 secs\n",
            "Testing acc: 0.888\n",
            "epoch: 8 / 20\n",
            "Training epoch: 8 / loss_C: 0.570 | acc: 0.820\n",
            "Training takes 30.735 secs\n",
            "Testing acc: 0.891\n",
            "epoch: 9 / 20\n",
            "Training epoch: 9 / loss_C: 0.529 | acc: 0.837\n",
            "Training takes 30.941 secs\n",
            "Testing acc: 0.897\n",
            "epoch: 10 / 20\n",
            "Training epoch: 10 / loss_C: 0.520 | acc: 0.836\n",
            "Training takes 30.845 secs\n",
            "Testing acc: 0.899\n",
            "epoch: 11 / 20\n",
            "Training epoch: 11 / loss_C: 0.475 | acc: 0.862\n",
            "Training takes 30.971 secs\n",
            "Testing acc: 0.903\n",
            "epoch: 12 / 20\n",
            "Training epoch: 12 / loss_C: 0.484 | acc: 0.852\n",
            "Training takes 31.031 secs\n",
            "Testing acc: 0.898\n",
            "epoch: 13 / 20\n",
            "Training epoch: 13 / loss_C: 0.458 | acc: 0.855\n",
            "Training takes 30.973 secs\n",
            "Testing acc: 0.903\n",
            "epoch: 14 / 20\n",
            "Training epoch: 14 / loss_C: 0.460 | acc: 0.856\n",
            "Training takes 31.003 secs\n",
            "Testing acc: 0.907\n",
            "epoch: 15 / 20\n",
            "Training epoch: 15 / loss_C: 0.460 | acc: 0.859\n",
            "Training takes 30.856 secs\n",
            "Testing acc: 0.903\n",
            "epoch: 16 / 20\n",
            "Training epoch: 16 / loss_C: 0.466 | acc: 0.859\n",
            "Training takes 31.041 secs\n",
            "Testing acc: 0.902\n",
            "epoch: 17 / 20\n",
            "Training epoch: 17 / loss_C: 0.462 | acc: 0.864\n",
            "Training takes 30.931 secs\n",
            "Testing acc: 0.902\n",
            "epoch: 18 / 20\n",
            "Training epoch: 18 / loss_C: 0.461 | acc: 0.862\n",
            "Training takes 30.888 secs\n",
            "Testing acc: 0.902\n",
            "epoch: 19 / 20\n",
            "Training epoch: 19 / loss_C: 0.477 | acc: 0.851\n",
            "Training takes 30.876 secs\n",
            "Testing acc: 0.909\n",
            "epoch: 20 / 20\n",
            "Training epoch: 20 / loss_C: 0.476 | acc: 0.846\n",
            "Training takes 30.965 secs\n",
            "Testing acc: 0.899\n"
          ],
          "name": "stdout"
        }
      ]
    },
    {
      "cell_type": "code",
      "metadata": {
        "id": "oNr0rFwWsOAE"
      },
      "source": [
        "# train()"
      ],
      "execution_count": null,
      "outputs": []
    },
    {
      "cell_type": "markdown",
      "metadata": {
        "id": "tcV4HSs5wVCk"
      },
      "source": [
        "### 4. 將每一個 epoch 的 Loss 以及 Training / Testing accuracy 紀錄下來並繪製成圖。"
      ]
    },
    {
      "cell_type": "code",
      "metadata": {
        "id": "WUrug9MxwVCk",
        "outputId": "f849f6a0-d6e8-47fb-ac24-9d10e274376b",
        "colab": {
          "base_uri": "https://localhost:8080/",
          "height": 573
        }
      },
      "source": [
        "plt.figure()\n",
        "\n",
        "plt.plot(list(range(1,epochs+1)), loss_epoch_C) # plot your loss\n",
        "\n",
        "plt.title('Training Loss')\n",
        "plt.ylabel('loss'), plt.xlabel('epoch')\n",
        "plt.legend(['loss_C'], loc = 'upper left')\n",
        "plt.savefig('loss.jpg')\n",
        "plt.show()\n",
        "\n",
        "plt.figure()\n",
        "\n",
        "plt.plot(list(range(1,epochs+1)), train_acc) # plot your training accuracy\n",
        "plt.plot(list(range(1,epochs+1)), test_acc) # plot your testing accuracy\n",
        "\n",
        "plt.title('Training acc')\n",
        "plt.ylabel('acc (%)'), plt.xlabel('epoch')\n",
        "plt.legend(['training acc', 'testing acc'], loc = 'upper left')\n",
        "plt.savefig('accu.jpg')\n",
        "plt.show()"
      ],
      "execution_count": null,
      "outputs": [
        {
          "output_type": "display_data",
          "data": {
            "image/png": "[encoded data removed]",
            "text/plain": [
              "<Figure size 432x288 with 1 Axes>"
            ]
          },
          "metadata": {
            "tags": [],
            "needs_background": "light"
          }
        },
        {
          "output_type": "display_data",
          "data": {
            "image/png": "[encoded data removed]",
            "text/plain": [
              "<Figure size 432x288 with 1 Axes>"
            ]
          },
          "metadata": {
            "tags": [],
            "needs_background": "light"
          }
        }
      ]
    },
    {
      "cell_type": "code",
      "metadata": {
        "id": "HxpmR5qjwVCo"
      },
      "source": [
        "# torch.save(C, 'ai_hw3.pt')"
      ],
      "execution_count": null,
      "outputs": []
    }
  ]
}